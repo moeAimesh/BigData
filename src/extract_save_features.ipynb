{
 "cells": [
  {
   "cell_type": "markdown",
   "id": "8ebbfe77",
   "metadata": {},
   "source": [
    "# Image Feature Loader & DB-Saver\n",
    "Dieses Notebook lädt Bilder, extrahiert Features und speichert sie in einer SQLite-Datenbank."
   ]
  },
  {
   "cell_type": "code",
   "execution_count": 29,
   "id": "d8193981",
   "metadata": {},
   "outputs": [],
   "source": [
    "\n",
    "import os\n",
    "from PIL import Image\n",
    "import numpy as np\n",
    "import sqlite3, pickle\n",
    "from tqdm import tqdm\n",
    "\n",
    "from features.embedding_vec import calc_embedding\n",
    "from features.hash import calc_hash\n",
    "from features.color_vec import calc_histogram\n",
    "from loader import image_generator\n",
    "from datetime import datetime\n",
    "\n",
    "logfile = open(\"debug_log.txt\", \"a\", encoding=\"utf-8\")"
   ]
  },
  {
   "cell_type": "code",
   "execution_count": 31,
   "id": "1549cfc2",
   "metadata": {},
   "outputs": [
    {
     "name": "stderr",
     "output_type": "stream",
     "text": [
      " 33%|███▎      | 52/158 [00:16<00:34,  3.08it/s]"
     ]
    },
    {
     "name": "stdout",
     "output_type": "stream",
     "text": [
      "✓ Batch gespeichert: 50 Einträge\n"
     ]
    },
    {
     "name": "stderr",
     "output_type": "stream",
     "text": [
      " 65%|██████▌   | 103/158 [00:29<00:06,  8.14it/s]"
     ]
    },
    {
     "name": "stdout",
     "output_type": "stream",
     "text": [
      "✓ Batch gespeichert: 50 Einträge\n"
     ]
    },
    {
     "name": "stderr",
     "output_type": "stream",
     "text": [
      " 96%|█████████▌| 152/158 [00:44<00:02,  2.75it/s]"
     ]
    },
    {
     "name": "stdout",
     "output_type": "stream",
     "text": [
      "✓ Batch gespeichert: 50 Einträge\n"
     ]
    },
    {
     "name": "stderr",
     "output_type": "stream",
     "text": [
      "100%|██████████| 158/158 [00:46<00:00,  3.37it/s]"
     ]
    },
    {
     "name": "stdout",
     "output_type": "stream",
     "text": [
      "✓ Letzter Batch gespeichert: 6 Einträge\n"
     ]
    },
    {
     "name": "stderr",
     "output_type": "stream",
     "text": [
      "\n"
     ]
    }
   ],
   "source": [
    "# Verbindung zur Datenbank + Speichern der Vektoren\n",
    "DB = r\"C:\\Users\\moham\\OneDrive\\Dokumente\\Big_Data\\fork_repo_local\\data\\database.db\"\n",
    "PHOTO_FOLDER = r\"C:\\Users\\moham\\OneDrive\\Dokumente\\Big_Data\\Test_bilder_verschachtelt\"\n",
    "\n",
    "\n",
    "conn = sqlite3.connect(DB)\n",
    "cursor = conn.cursor()\n",
    "\n",
    "batch_buffer= []\n",
    "\n",
    "#batch size entsprechend ändern wenn mehr bilder verarbeitet werden sollen (aktuell 50 als test bei 150 bildern)\n",
    "def save_to_db_batch(filename, image_path, color_hist, embedding, img_hash, resolution, file_size, batch_size=50):\n",
    "    global batch_buffer\n",
    "\n",
    "    blob_embedding = pickle.dumps(embedding)\n",
    "    hist_str = \",\".join([str(round(v, 6)) for v in color_hist])\n",
    "\n",
    "    batch_buffer.append((filename, image_path, hist_str, blob_embedding, img_hash, resolution, file_size))\n",
    "\n",
    "    if len(batch_buffer) >= batch_size:\n",
    "        cursor.executemany(\"\"\"\n",
    "            INSERT OR REPLACE INTO image_features_test\n",
    "            (filename, path, color_hist, embedding, image_hash, resolution, file_size)\n",
    "            VALUES (?, ?, ?, ?, ?, ?, ?)\n",
    "        \"\"\", batch_buffer)\n",
    "        conn.commit()\n",
    "        print(f\"✓ Batch gespeichert: {len(batch_buffer)} Einträge\")\n",
    "        batch_buffer.clear()\n",
    "\n",
    "\n",
    "total_images = sum(1 for _ in image_generator(PHOTO_FOLDER))\n",
    "\n",
    "for filename, image_path in tqdm(image_generator(PHOTO_FOLDER), total=total_images):\n",
    "    \n",
    "    try:\n",
    "        img = Image.open(image_path)\n",
    "\n",
    "        color_hist = calc_histogram(img)\n",
    "\n",
    "        embedding = calc_embedding(img)\n",
    "\n",
    "        img_hash = calc_hash(img)\n",
    "        assert isinstance(img_hash, str), \"Hash ist KEIN String!\"\n",
    "\n",
    "        resolution = f\"{img.width}x{img.height}\"\n",
    "\n",
    "        file_size = os.path.getsize(image_path)\n",
    "\n",
    "        save_to_db_batch(filename, image_path, color_hist, embedding, img_hash, resolution, file_size)\n",
    "        logfile.write(f\"{filename} ✓ Gespeichert\\n\")\n",
    "    except Exception as e:\n",
    "        logfile.write(f\"{filename} ❌ Fehler: {e}\\n\")\n",
    "\n",
    "\n",
    "#damit der letzte Batch nicht verloren geht:\n",
    "if batch_buffer:\n",
    "    cursor.executemany(\"\"\"\n",
    "        INSERT OR REPLACE INTO image_features_test\n",
    "        (filename, path, color_hist, embedding, image_hash, resolution, file_size)\n",
    "        VALUES (?, ?, ?, ?, ?, ?, ?)\n",
    "    \"\"\", batch_buffer)\n",
    "    conn.commit()\n",
    "    print(f\"✓ Letzter Batch gespeichert: {len(batch_buffer)} Einträge\")\n",
    "\n",
    "    # Log-Eintrag für den letzten Batch mit Zeitstempel um zu wissen, wann die speicherung beendet wurde \n",
    "    timestamp = datetime.now().strftime(\"%Y-%m-%d %H:%M:%S\")\n",
    "    logfile.write(f\"[{timestamp}] ✓ Letzter Batch gespeichert: {len(batch_buffer)} Einträge\\n\")\n",
    "    batch_buffer.clear()\n",
    "\n",
    "logfile.close()\n"
   ]
  },
  {
   "cell_type": "code",
   "execution_count": null,
   "id": "ae574a79",
   "metadata": {},
   "outputs": [
    {
     "name": "stdout",
     "output_type": "stream",
     "text": [
      "C:\\Users\\moham\\OneDrive\\Dokumente\\Big_Data\\Test_bilder\\matthias-mullie-VAxCHgJvZ0g-unsplash.jpg → vec[:5]: [1.8949633  0.7734968  1.456661   0.5185568  0.14204417]\n",
      "C:\\Users\\moham\\OneDrive\\Dokumente\\Big_Data\\Test_bilder\\max-bender-VmX3vmBecFE-unsplash.jpg → vec[:5]: [1.7741386  2.8704925  0.6573834  0.46344948 0.31365994]\n",
      "C:\\Users\\moham\\OneDrive\\Dokumente\\Big_Data\\Test_bilder\\max-van-den-oetelaar-uymG7UVPXpI-unsplash.jpg → vec[:5]: [0.04338714 0.8773901  0.35661784 1.8889567  1.1908364 ]\n",
      "C:\\Users\\moham\\OneDrive\\Dokumente\\Big_Data\\Test_bilder\\meric-dagli-OMr-b_O568k-unsplash.jpg → vec[:5]: [0.5777046  2.136457   0.7243774  0.40846688 0.09458669]\n",
      "C:\\Users\\moham\\OneDrive\\Dokumente\\Big_Data\\Test_bilder\\mike-benna-5Cv3surFZM8-unsplash.jpg → vec[:5]: [0.11148688 0.38410518 1.9140203  0.4428106  0.07263392]\n"
     ]
    }
   ],
   "source": []
  }
 ],
 "metadata": {
  "kernelspec": {
   "display_name": "big_data",
   "language": "python",
   "name": "python3"
  },
  "language_info": {
   "codemirror_mode": {
    "name": "ipython",
    "version": 3
   },
   "file_extension": ".py",
   "mimetype": "text/x-python",
   "name": "python",
   "nbconvert_exporter": "python",
   "pygments_lexer": "ipython3",
   "version": "3.10.17"
  }
 },
 "nbformat": 4,
 "nbformat_minor": 5
}
