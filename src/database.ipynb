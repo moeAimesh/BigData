{
 "cells": [
  {
   "cell_type": "code",
   "execution_count": null,
   "id": "8f607d4b",
   "metadata": {},
   "outputs": [],
   "source": [
    "#nootbook to perform actions/sql queries on database.db"
   ]
  },
  {
   "cell_type": "code",
   "execution_count": 5,
   "id": "68147db4",
   "metadata": {},
   "outputs": [],
   "source": [
    "import sqlite3\n",
    "conn = sqlite3.connect(r\"Z:\\CODING\\UNI\\BIG_DATA\\data\\database.db\")  # Pfad zur neuen DB\")\n",
    "cursor = conn.cursor()"
   ]
  },
  {
   "cell_type": "code",
   "execution_count": 3,
   "id": "b0d68dda",
   "metadata": {},
   "outputs": [],
   "source": [
    "cursor.execute('''\n",
    "    CREATE TABLE IF NOT EXISTS image_features (\n",
    "    id INTEGER PRIMARY KEY AUTOINCREMENT,\n",
    "    filename TEXT NOT NULL,\n",
    "    path TEXT NOT NULL,\n",
    "    color_hist TEXT,\n",
    "    embedding TEXT,\n",
    "    image_hash TEXT,\n",
    "    keypoints TEXT,\n",
    "    category TEXT,\n",
    "    clip_embedding TEXT,\n",
    "    resolution TEXT,\n",
    "    file_size INTEGER,\n",
    "    photographer TEXT,\n",
    "    umap_x REAL,\n",
    "    umap_y REAL\n",
    ")\n",
    "''')\n",
    "conn.commit()"
   ]
  },
  {
   "cell_type": "code",
   "execution_count": 6,
   "id": "2a414441",
   "metadata": {},
   "outputs": [],
   "source": [
    "cursor.execute(\"DROP TABLE image_features_test\")\n",
    "conn.commit()"
   ]
  },
  {
   "cell_type": "code",
   "execution_count": 7,
   "id": "2b95180f",
   "metadata": {},
   "outputs": [],
   "source": [
    "cursor.execute('''\n",
    "    CREATE TABLE IF NOT EXISTS image_features_test (\n",
    "    id INTEGER PRIMARY KEY AUTOINCREMENT,\n",
    "    filename TEXT NOT NULL,\n",
    "    path TEXT NOT NULL,\n",
    "    color_hist TEXT,\n",
    "    embedding_path TEXT,\n",
    "    image_hash TEXT,\n",
    "    keypoints BLOB,\n",
    "    category TEXT,\n",
    "    clip_embedding BLOB,\n",
    "    resolution TEXT,\n",
    "    file_size INTEGER,\n",
    "    photographer TEXT,\n",
    "    pca_embedding TEXT,\n",
    "    umap_x REAL,\n",
    "    umap_y REAL\n",
    ")\n",
    "''')\n",
    "conn.commit()"
   ]
  },
  {
   "cell_type": "code",
   "execution_count": 7,
   "id": "e5535b59",
   "metadata": {},
   "outputs": [
    {
     "name": "stdout",
     "output_type": "stream",
     "text": [
      "id\n",
      "filename\n",
      "path\n",
      "color_hist\n",
      "embedding\n",
      "image_hash\n",
      "keypoints\n",
      "category\n",
      "clip_embedding\n",
      "resolution\n",
      "file_size\n",
      "photographer\n",
      "umap_x\n",
      "umap_y\n"
     ]
    }
   ],
   "source": [
    "#SHOW ALL COLUMN NAMES\n",
    "\n",
    "cursor.execute('PRAGMA table_info(image_features_test)')\n",
    "columns = cursor.fetchall()\n",
    "for col in columns:\n",
    "    print(col[1])"
   ]
  }
 ],
 "metadata": {
  "kernelspec": {
   "display_name": "venv (3.11.9)",
   "language": "python",
   "name": "python3"
  },
  "language_info": {
   "codemirror_mode": {
    "name": "ipython",
    "version": 3
   },
   "file_extension": ".py",
   "mimetype": "text/x-python",
   "name": "python",
   "nbconvert_exporter": "python",
   "pygments_lexer": "ipython3",
   "version": "3.11.9"
  }
 },
 "nbformat": 4,
 "nbformat_minor": 5
}
